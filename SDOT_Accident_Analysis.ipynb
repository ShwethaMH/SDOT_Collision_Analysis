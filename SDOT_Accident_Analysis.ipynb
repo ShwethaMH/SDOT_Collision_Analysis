{
 "cells": [
  {
   "cell_type": "code",
   "execution_count": 1,
   "id": "5c0fa827",
   "metadata": {},
   "outputs": [],
   "source": [
    "import pandas as pd\n",
    "import numpy as np\n",
    "from sklearn.model_selection import train_test_split\n",
    "from sklearn.preprocessing import StandardScaler\n",
    "from sklearn.compose import ColumnTransformer\n",
    "from sklearn.preprocessing import OneHotEncoder\n",
    "from sklearn.linear_model import LogisticRegression\n",
    "from sklearn.ensemble import RandomForestClassifier\n",
    "from sklearn.model_selection import cross_val_score\n",
    "from sklearn.metrics import accuracy_score\n"
   ]
  },
  {
   "cell_type": "markdown",
   "id": "ee66135b",
   "metadata": {},
   "source": [
    "import pandas as pd\n",
    "from sklearn.model_selection import train_test_split\n",
    "from sklearn.linear_model import LogisticRegression\n",
    "from sklearn.ensemble import RandomForestClassifier\n",
    "from sklearn.metrics import accuracy_score\n",
    "\n",
    "url = 'https://data.seattle.gov/api/views/65db-xm6k/rows.csv?accessType=DOWNLOAD'\n",
    "df = pd.read_csv(url, low_memory=False)\n"
   ]
  },
  {
   "cell_type": "code",
   "execution_count": 10,
   "id": "153514fe",
   "metadata": {},
   "outputs": [
    {
     "name": "stderr",
     "output_type": "stream",
     "text": [
      "C:\\Users\\shwet\\AppData\\Local\\Temp\\ipykernel_11816\\2459775208.py:2: DtypeWarning: Columns (10) have mixed types. Specify dtype option on import or set low_memory=False.\n",
      "  df = pd.read_csv(\"collisions.csv\")\n"
     ]
    }
   ],
   "source": [
    "# Load the data\n",
    "df = pd.read_csv(\"collisions.csv\")"
   ]
  },
  {
   "cell_type": "code",
   "execution_count": 11,
   "id": "3bfeafe8",
   "metadata": {},
   "outputs": [
    {
     "data": {
      "text/html": [
       "<div>\n",
       "<style scoped>\n",
       "    .dataframe tbody tr th:only-of-type {\n",
       "        vertical-align: middle;\n",
       "    }\n",
       "\n",
       "    .dataframe tbody tr th {\n",
       "        vertical-align: top;\n",
       "    }\n",
       "\n",
       "    .dataframe thead th {\n",
       "        text-align: right;\n",
       "    }\n",
       "</style>\n",
       "<table border=\"1\" class=\"dataframe\">\n",
       "  <thead>\n",
       "    <tr style=\"text-align: right;\">\n",
       "      <th></th>\n",
       "      <th>X</th>\n",
       "      <th>Y</th>\n",
       "      <th>OBJECTID</th>\n",
       "      <th>INCKEY</th>\n",
       "      <th>COLDETKEY</th>\n",
       "      <th>ADDRTYPE</th>\n",
       "      <th>COLLISIONTYPE</th>\n",
       "      <th>EXCEPTRSNCODE</th>\n",
       "      <th>EXCEPTRSNDESC</th>\n",
       "      <th>FATALITIES</th>\n",
       "      <th>...</th>\n",
       "      <th>ADDDTTM</th>\n",
       "      <th>MODBY</th>\n",
       "      <th>MODDTTM</th>\n",
       "      <th>ST_PARTCPNT_TYPE</th>\n",
       "      <th>ST_PARTCPNT_TYPE_DESC</th>\n",
       "      <th>ST_AGE</th>\n",
       "      <th>ST_CITED</th>\n",
       "      <th>ST_VEH_TYPE_CD</th>\n",
       "      <th>ST_VEH_TYPE_DESC</th>\n",
       "      <th>ST_INJRY_CLSS_DESC</th>\n",
       "    </tr>\n",
       "  </thead>\n",
       "  <tbody>\n",
       "    <tr>\n",
       "      <th>0</th>\n",
       "      <td>1.271757e+06</td>\n",
       "      <td>202831.432061</td>\n",
       "      <td>1</td>\n",
       "      <td>347106</td>\n",
       "      <td>348606</td>\n",
       "      <td>Intersection</td>\n",
       "      <td>Pedestrian</td>\n",
       "      <td></td>\n",
       "      <td>NaN</td>\n",
       "      <td>0</td>\n",
       "      <td>...</td>\n",
       "      <td>NaN</td>\n",
       "      <td>NaN</td>\n",
       "      <td>NaN</td>\n",
       "      <td>NaN</td>\n",
       "      <td>NaN</td>\n",
       "      <td>NaN</td>\n",
       "      <td>NaN</td>\n",
       "      <td>NaN</td>\n",
       "      <td>NaN</td>\n",
       "      <td>NaN</td>\n",
       "    </tr>\n",
       "    <tr>\n",
       "      <th>1</th>\n",
       "      <td>1.259163e+06</td>\n",
       "      <td>196658.337780</td>\n",
       "      <td>2</td>\n",
       "      <td>353843</td>\n",
       "      <td>355303</td>\n",
       "      <td>Block</td>\n",
       "      <td>Rear Ended</td>\n",
       "      <td></td>\n",
       "      <td>NaN</td>\n",
       "      <td>0</td>\n",
       "      <td>...</td>\n",
       "      <td>NaN</td>\n",
       "      <td>NaN</td>\n",
       "      <td>NaN</td>\n",
       "      <td>NaN</td>\n",
       "      <td>NaN</td>\n",
       "      <td>NaN</td>\n",
       "      <td>NaN</td>\n",
       "      <td>NaN</td>\n",
       "      <td>NaN</td>\n",
       "      <td>NaN</td>\n",
       "    </tr>\n",
       "    <tr>\n",
       "      <th>2</th>\n",
       "      <td>1.269312e+06</td>\n",
       "      <td>204946.524287</td>\n",
       "      <td>3</td>\n",
       "      <td>345966</td>\n",
       "      <td>347466</td>\n",
       "      <td>Intersection</td>\n",
       "      <td>Left Turn</td>\n",
       "      <td></td>\n",
       "      <td>NaN</td>\n",
       "      <td>0</td>\n",
       "      <td>...</td>\n",
       "      <td>NaN</td>\n",
       "      <td>NaN</td>\n",
       "      <td>NaN</td>\n",
       "      <td>NaN</td>\n",
       "      <td>NaN</td>\n",
       "      <td>NaN</td>\n",
       "      <td>NaN</td>\n",
       "      <td>NaN</td>\n",
       "      <td>NaN</td>\n",
       "      <td>NaN</td>\n",
       "    </tr>\n",
       "    <tr>\n",
       "      <th>3</th>\n",
       "      <td>1.267757e+06</td>\n",
       "      <td>271122.941803</td>\n",
       "      <td>4</td>\n",
       "      <td>353658</td>\n",
       "      <td>355118</td>\n",
       "      <td>Block</td>\n",
       "      <td>Parked Car</td>\n",
       "      <td></td>\n",
       "      <td>NaN</td>\n",
       "      <td>0</td>\n",
       "      <td>...</td>\n",
       "      <td>NaN</td>\n",
       "      <td>NaN</td>\n",
       "      <td>NaN</td>\n",
       "      <td>NaN</td>\n",
       "      <td>NaN</td>\n",
       "      <td>NaN</td>\n",
       "      <td>NaN</td>\n",
       "      <td>NaN</td>\n",
       "      <td>NaN</td>\n",
       "      <td>NaN</td>\n",
       "    </tr>\n",
       "    <tr>\n",
       "      <th>4</th>\n",
       "      <td>1.281388e+06</td>\n",
       "      <td>269060.231034</td>\n",
       "      <td>5</td>\n",
       "      <td>345924</td>\n",
       "      <td>347424</td>\n",
       "      <td>Intersection</td>\n",
       "      <td>NaN</td>\n",
       "      <td></td>\n",
       "      <td>NaN</td>\n",
       "      <td>0</td>\n",
       "      <td>...</td>\n",
       "      <td>NaN</td>\n",
       "      <td>NaN</td>\n",
       "      <td>NaN</td>\n",
       "      <td>NaN</td>\n",
       "      <td>NaN</td>\n",
       "      <td>NaN</td>\n",
       "      <td>NaN</td>\n",
       "      <td>NaN</td>\n",
       "      <td>NaN</td>\n",
       "      <td>NaN</td>\n",
       "    </tr>\n",
       "  </tbody>\n",
       "</table>\n",
       "<p>5 rows × 53 columns</p>\n",
       "</div>"
      ],
      "text/plain": [
       "              X              Y  OBJECTID  INCKEY  COLDETKEY      ADDRTYPE  \\\n",
       "0  1.271757e+06  202831.432061         1  347106     348606  Intersection   \n",
       "1  1.259163e+06  196658.337780         2  353843     355303         Block   \n",
       "2  1.269312e+06  204946.524287         3  345966     347466  Intersection   \n",
       "3  1.267757e+06  271122.941803         4  353658     355118         Block   \n",
       "4  1.281388e+06  269060.231034         5  345924     347424  Intersection   \n",
       "\n",
       "  COLLISIONTYPE EXCEPTRSNCODE EXCEPTRSNDESC  FATALITIES  ... ADDDTTM MODBY  \\\n",
       "0    Pedestrian                         NaN           0  ...     NaN   NaN   \n",
       "1    Rear Ended                         NaN           0  ...     NaN   NaN   \n",
       "2     Left Turn                         NaN           0  ...     NaN   NaN   \n",
       "3    Parked Car                         NaN           0  ...     NaN   NaN   \n",
       "4           NaN                         NaN           0  ...     NaN   NaN   \n",
       "\n",
       "  MODDTTM  ST_PARTCPNT_TYPE  ST_PARTCPNT_TYPE_DESC ST_AGE ST_CITED  \\\n",
       "0     NaN               NaN                    NaN    NaN      NaN   \n",
       "1     NaN               NaN                    NaN    NaN      NaN   \n",
       "2     NaN               NaN                    NaN    NaN      NaN   \n",
       "3     NaN               NaN                    NaN    NaN      NaN   \n",
       "4     NaN               NaN                    NaN    NaN      NaN   \n",
       "\n",
       "  ST_VEH_TYPE_CD  ST_VEH_TYPE_DESC  ST_INJRY_CLSS_DESC  \n",
       "0            NaN               NaN                 NaN  \n",
       "1            NaN               NaN                 NaN  \n",
       "2            NaN               NaN                 NaN  \n",
       "3            NaN               NaN                 NaN  \n",
       "4            NaN               NaN                 NaN  \n",
       "\n",
       "[5 rows x 53 columns]"
      ]
     },
     "execution_count": 11,
     "metadata": {},
     "output_type": "execute_result"
    }
   ],
   "source": [
    "df.head()"
   ]
  },
  {
   "cell_type": "code",
   "execution_count": 12,
   "id": "4e5a5205",
   "metadata": {},
   "outputs": [],
   "source": [
    "# Select relevant features\n",
    "features = ['ADDRTYPE', 'COLLISIONTYPE', 'JUNCTIONTYPE', 'WEATHER', 'ROADCOND', 'LIGHTCOND']\n"
   ]
  },
  {
   "cell_type": "code",
   "execution_count": 13,
   "id": "4fe6d068",
   "metadata": {
    "scrolled": true
   },
   "outputs": [],
   "source": [
    "# Preparing the data by selecting the features we want to use as predictors and the target variable:\n",
    "# Select features\n",
    "features = ['ADDRTYPE', 'WEATHER', 'ROADCOND', 'LIGHTCOND', 'SPEEDING', 'UNDERINFL']\n",
    "\n",
    "# Select target variable\n",
    "target = 'SEVERITYCODE'\n"
   ]
  },
  {
   "cell_type": "code",
   "execution_count": 14,
   "id": "f31e77b7",
   "metadata": {},
   "outputs": [],
   "source": [
    "# Make sure all the columns in features and target exist in df\n",
    "valid_cols = set(features + [target]).issubset(set(df.columns))\n",
    "if not valid_cols:\n",
    "    raise ValueError('One or more columns in features or target do not exist in df')\n"
   ]
  },
  {
   "cell_type": "code",
   "execution_count": 15,
   "id": "531989eb",
   "metadata": {},
   "outputs": [],
   "source": [
    "# Create data subset with only selected features and target variable\n",
    "data = df[features + [target]].dropna()"
   ]
  },
  {
   "cell_type": "code",
   "execution_count": 16,
   "id": "4584c415",
   "metadata": {},
   "outputs": [],
   "source": [
    "# Split features into categorical and numerical\n",
    "cat_features = ['ADDRTYPE', 'COLLISIONTYPE', 'JUNCTIONTYPE', 'WEATHER', 'ROADCOND', 'LIGHTCOND']\n",
    "num_features = []\n"
   ]
  },
  {
   "cell_type": "code",
   "execution_count": 18,
   "id": "17fdd937",
   "metadata": {},
   "outputs": [],
   "source": [
    "# Make sure all the categorical features in cat_features exist in df\n",
    "valid_cols = set(cat_features).issubset(set(df.columns))\n",
    "if not valid_cols:\n",
    "    raise ValueError('One or more columns in cat_features do not exist in df')\n"
   ]
  },
  {
   "cell_type": "code",
   "execution_count": 20,
   "id": "bbabd534",
   "metadata": {},
   "outputs": [
    {
     "name": "stdout",
     "output_type": "stream",
     "text": [
      "Index(['X', 'Y', 'OBJECTID', 'INCKEY', 'COLDETKEY', 'ADDRTYPE',\n",
      "       'COLLISIONTYPE', 'EXCEPTRSNCODE', 'EXCEPTRSNDESC', 'FATALITIES',\n",
      "       'INATTENTIONIND', 'INCDATE', 'INCDTTM', 'INJURIES', 'INTKEY',\n",
      "       'JUNCTIONTYPE', 'LIGHTCOND', 'LOCATION', 'PEDCOUNT', 'PEDCYLCOUNT',\n",
      "       'PEDROWNOTGRNT', 'PERSONCOUNT', 'REPORTNO', 'ROADCOND', 'SDOT_COLCODE',\n",
      "       'SDOT_COLDESC', 'SDOTCOLNUM', 'SERIOUSINJURIES', 'SEVERITYCODE',\n",
      "       'SEVERITYDESC', 'SPEEDING', 'ST_COLCODE', 'ST_COLDESC', 'STATUS',\n",
      "       'UNDERINFL', 'VEHCOUNT', 'WEATHER', 'SEGLANEKEY', 'CROSSWALKKEY',\n",
      "       'HITPARKEDCAR', 'SOURCE', 'SOURCEDESC', 'ADDBY', 'ADDDTTM', 'MODBY',\n",
      "       'MODDTTM', 'ST_PARTCPNT_TYPE', 'ST_PARTCPNT_TYPE_DESC', 'ST_AGE',\n",
      "       'ST_CITED', 'ST_VEH_TYPE_CD', 'ST_VEH_TYPE_DESC', 'ST_INJRY_CLSS_DESC'],\n",
      "      dtype='object')\n"
     ]
    }
   ],
   "source": [
    "print(df.columns)"
   ]
  },
  {
   "cell_type": "code",
   "execution_count": 21,
   "id": "eeadc288",
   "metadata": {},
   "outputs": [],
   "source": [
    "from sklearn.compose import make_column_selector\n",
    "from sklearn.preprocessing import StandardScaler, OneHotEncoder\n",
    "from sklearn.compose import ColumnTransformer\n",
    "\n",
    "# Select the categorical and numerical features separately\n",
    "num_features = make_column_selector(dtype_include=['int64', 'float64'])(df[features])\n",
    "cat_features = make_column_selector(dtype_exclude=['int64', 'float64'])(df[features])\n",
    "\n",
    "# Create transformers for numerical and categorical features\n",
    "num_transformer = StandardScaler()\n",
    "cat_transformer = OneHotEncoder(drop='first')\n",
    "\n",
    "# Use ColumnTransformer to apply transformers to selected features\n",
    "preprocessor = ColumnTransformer(transformers=[\n",
    "    ('num', num_transformer, num_features),\n",
    "    ('cat', cat_transformer, cat_features)\n",
    "])\n",
    "\n",
    "# Fit the preprocessor and transform the selected features of the df DataFrame\n",
    "X = preprocessor.fit_transform(df[features])\n"
   ]
  },
  {
   "cell_type": "code",
   "execution_count": 22,
   "id": "a0010c2f",
   "metadata": {},
   "outputs": [],
   "source": [
    "# Split the data into training and testing sets\n",
    "X_train, X_test, y_train, y_test = train_test_split(data[features], data[target], test_size=0.2, random_state=42)\n"
   ]
  },
  {
   "cell_type": "code",
   "execution_count": 23,
   "id": "dd56dca7",
   "metadata": {},
   "outputs": [],
   "source": [
    "# Define the preprocessor to use for feature preprocessing\n",
    "num_features = make_column_selector(dtype_include=['int64', 'float64'])(X_train)\n",
    "cat_features = make_column_selector(dtype_exclude=['int64', 'float64'])(X_train)\n",
    "num_transformer = StandardScaler()\n",
    "cat_transformer = OneHotEncoder(drop='first')\n",
    "preprocessor = ColumnTransformer(transformers=[\n",
    "    ('num', num_transformer, num_features),\n",
    "    ('cat', cat_transformer, cat_features)\n",
    "])\n"
   ]
  },
  {
   "cell_type": "code",
   "execution_count": 24,
   "id": "33a8bdb5",
   "metadata": {},
   "outputs": [],
   "source": [
    "# Preprocess the features using the preprocessor\n",
    "X_train_preprocessed = preprocessor.fit_transform(X_train)\n",
    "X_test_preprocessed = preprocessor.transform(X_test)\n"
   ]
  },
  {
   "cell_type": "code",
   "execution_count": 31,
   "id": "1758015c",
   "metadata": {},
   "outputs": [
    {
     "name": "stdout",
     "output_type": "stream",
     "text": [
      "Accuracy of logistic regression model: 0.62\n"
     ]
    }
   ],
   "source": [
    "# Train a logistic regression model\n",
    "logreg = LogisticRegression(random_state=42)\n",
    "logreg.fit(X_train_preprocessed, y_train)\n",
    "y_pred_logreg = logreg.predict(X_test_preprocessed)\n",
    "acc_logreg = accuracy_score(y_test, y_pred_logreg)\n",
    "print('Accuracy of logistic regression model: {:.2f}'.format(acc_logreg))\n"
   ]
  },
  {
   "cell_type": "code",
   "execution_count": 32,
   "id": "6b461e7f",
   "metadata": {},
   "outputs": [
    {
     "name": "stdout",
     "output_type": "stream",
     "text": [
      "Accuracy of random forest model: 0.60\n"
     ]
    }
   ],
   "source": [
    "# Train a random forest model\n",
    "rf = RandomForestClassifier(random_state=42)\n",
    "rf.fit(X_train_preprocessed, y_train)\n",
    "y_pred_rf = rf.predict(X_test_preprocessed)\n",
    "acc_rf = accuracy_score(y_test, y_pred_rf)\n",
    "print('Accuracy of random forest model: {:.2f}'.format(acc_rf))"
   ]
  },
  {
   "cell_type": "code",
   "execution_count": 33,
   "id": "7bfaa465",
   "metadata": {},
   "outputs": [
    {
     "name": "stdout",
     "output_type": "stream",
     "text": [
      "Best hyperparameters: {'C': 0.01, 'penalty': 'l2'}\n",
      "Mean cross-validation score: 0.589779521076642\n"
     ]
    }
   ],
   "source": [
    "from sklearn.model_selection import GridSearchCV\n",
    "\n",
    "# Define the hyperparameters to tune\n",
    "param_grid = {'C': [0.01, 0.1, 1, 10, 100], 'penalty': ['l1', 'l2']}\n",
    "\n",
    "# Create a logistic regression model\n",
    "logreg = LogisticRegression(random_state=42)\n",
    "\n",
    "# Create a GridSearchCV object with 5-fold cross-validation\n",
    "grid_logreg = GridSearchCV(logreg, param_grid=param_grid, cv=5, n_jobs=-1)\n",
    "\n",
    "# Fit the GridSearchCV object to the preprocessed training data\n",
    "grid_logreg.fit(X_train_preprocessed, y_train)\n",
    "\n",
    "# Print the best hyperparameters and the corresponding mean cross-validation score\n",
    "print('Best hyperparameters:', grid_logreg.best_params_)\n",
    "print('Mean cross-validation score:', grid_logreg.best_score_)\n"
   ]
  },
  {
   "cell_type": "code",
   "execution_count": 34,
   "id": "d15aa8a1",
   "metadata": {},
   "outputs": [
    {
     "name": "stdout",
     "output_type": "stream",
     "text": [
      "Best hyperparameters: {'max_depth': 5, 'n_estimators': 50}\n",
      "Mean cross-validation score: 0.5912964405632231\n"
     ]
    }
   ],
   "source": [
    "from sklearn.model_selection import GridSearchCV\n",
    "\n",
    "# Define the hyperparameters to tune\n",
    "param_grid = {'n_estimators': [50, 100, 200], 'max_depth': [5, 10, None]}\n",
    "\n",
    "# Create a random forest model\n",
    "rf = RandomForestClassifier(random_state=42)\n",
    "\n",
    "# Create a GridSearchCV object with 5-fold cross-validation\n",
    "grid_rf = GridSearchCV(rf, param_grid=param_grid, cv=5, n_jobs=-1)\n",
    "\n",
    "# Fit the GridSearchCV object to the preprocessed training data\n",
    "grid_rf.fit(X_train_preprocessed, y_train)\n",
    "\n",
    "# Print the best hyperparameters and the corresponding mean cross-validation score\n",
    "print('Best hyperparameters:', grid_rf.best_params_)\n",
    "print('Mean cross-validation score:', grid_rf.best_score_)\n"
   ]
  },
  {
   "cell_type": "markdown",
   "id": "047a42aa",
   "metadata": {},
   "source": [
    "Note that in both cases, we define a dictionary of hyperparameters to tune, create a model object, create a GridSearchCV object with the hyperparameters and cross-validation settings, and fit the GridSearchCV object to the preprocessed training data. Finally, we print the best hyperparameters and the mean cross-validation score, which gives us an estimate of the performance of the model on new, unseen data."
   ]
  }
 ],
 "metadata": {
  "kernelspec": {
   "display_name": "Python 3 (ipykernel)",
   "language": "python",
   "name": "python3"
  },
  "language_info": {
   "codemirror_mode": {
    "name": "ipython",
    "version": 3
   },
   "file_extension": ".py",
   "mimetype": "text/x-python",
   "name": "python",
   "nbconvert_exporter": "python",
   "pygments_lexer": "ipython3",
   "version": "3.9.13"
  }
 },
 "nbformat": 4,
 "nbformat_minor": 5
}
